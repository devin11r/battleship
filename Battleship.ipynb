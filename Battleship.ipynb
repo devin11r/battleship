{
 "cells": [
  {
   "cell_type": "code",
   "execution_count": null,
   "metadata": {},
   "outputs": [],
   "source": [
    "from random import randint\n",
    "\n",
    "#directions\n",
    "print 'Hello and Welcome to Battleship'\n",
    "print \"A friendly game where you attempt to sink an enemy ship \t\t\t\tin 5 turns or less!\"\n",
    "print \n",
    "\n",
    "board = []\n",
    "\n",
    "for x in range(0, 5):\n",
    "  board.append([\"O\"] * 5)\n",
    "\n",
    "def print_board(board):\n",
    "  for row in board:\n",
    "    print \" \".join(row)\n",
    "\n",
    "    #presenting the board    \n",
    "print 'Here is the battlefield'\n",
    "print 'A 5x5 board'\n",
    "print '(0,0) are the coordinates for the top left most space'\n",
    "print '(4,4) are the coordinates for the bottom right most \t\t\t\t\t\tspace'\n",
    "print 'Ready? Lets begin!'\n",
    "\n",
    "print_board(board)\n",
    "\n",
    "def random_row(board):\n",
    "  return randint(0, len(board) - 1)\n",
    "\n",
    "def random_col(board):\n",
    "  return randint(0, len(board[0]) - 1)\n",
    "\n",
    "ship_row = random_row(board)\n",
    "ship_col = random_col(board)\n",
    "#print ship_row\n",
    "#print ship_col\n",
    "\n",
    " # Begin a game
    "for turn in range(4):\n",
    "  print \"Turn\", turn + 1\n",
    "  guess_row = int(raw_input(\"Guess Row: \"))\n",
    "  guess_col = int(raw_input(\"Guess Col: \"))\n",
    "\n",
    "  if guess_row == ship_row and guess_col == ship_col:\n",  #check if user guess was a hit
    "    print \"Congratulations! You sank my battleship!\"   \n",
    "    break\n",
    "  else:\n",
    "    if guess_row not in range(5) or \\\n",
    "      guess_col not in range(5):\n",
    "      print \"Oops, that's not even in the ocean.\"\n",
    "    elif board[guess_row][guess_col] == \"X\":\n",
    "      print( \"You guessed that one already.\" )\n",
    "    else:\n",
    "      print \"You missed my battleship!\"\n",
    "      board[guess_row][guess_col] = \"X\"\n",
    "    if (turn == 3):\n",
    "      print \"Game Over\"\n",
    "    print_board(board)"
   ]
  }
 ],
 "metadata": {
  "kernelspec": {
   "display_name": "Python 2",
   "language": "python",
   "name": "python2"
  },
  "language_info": {
   "codemirror_mode": {
    "name": "ipython",
    "version": 2
   },
   "file_extension": ".py",
   "mimetype": "text/x-python",
   "name": "python",
   "nbconvert_exporter": "python",
   "pygments_lexer": "ipython2",
   "version": "2.7.14"
  }
 },
 "nbformat": 4,
 "nbformat_minor": 2
}
